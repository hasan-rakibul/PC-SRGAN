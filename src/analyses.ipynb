{
 "cells": [
  {
   "cell_type": "markdown",
   "metadata": {},
   "source": [
    "# Physics vs Non-Physics Differences"
   ]
  },
  {
   "cell_type": "code",
   "execution_count": null,
   "metadata": {},
   "outputs": [],
   "source": [
    "import os\n",
    "import matplotlib.pyplot as plt\n",
    "import numpy as np"
   ]
  },
  {
   "cell_type": "code",
   "execution_count": null,
   "metadata": {},
   "outputs": [],
   "source": [
    "param_folder_name = 'eps0_K4_r2_theta0/'"
   ]
  },
  {
   "cell_type": "markdown",
   "metadata": {},
   "source": [
    "## Non-Physics"
   ]
  },
  {
   "cell_type": "code",
   "execution_count": null,
   "metadata": {},
   "outputs": [],
   "source": [
    "filename = os.path.join('../results/test_diff/SRGAN_x8-SRGAN_FEM_1_channel_no-physics_no-freeze/', param_folder_name)\n",
    "for i, file in enumerate(os.listdir(filename)):\n",
    "    if i==16:\n",
    "        break\n",
    "    diff = np.loadtxt(filename+file)\n",
    "    plt.imshow(diff, cmap='jet', aspect='auto')\n",
    "    plt.colorbar()\n",
    "    plt.show()"
   ]
  },
  {
   "cell_type": "markdown",
   "metadata": {},
   "source": [
    "## Physics"
   ]
  },
  {
   "cell_type": "code",
   "execution_count": null,
   "metadata": {},
   "outputs": [],
   "source": [
    "filename = os.path.join('../results/test_diff/SRGAN_x8-SRGAN_FEM_1_channel_physics_no-freeze/eps0_K4_r2_theta0/', param_folder_name)\n",
    "for i, file in enumerate(os.listdir(filename)):\n",
    "    if i==16:\n",
    "        break\n",
    "    diff = np.loadtxt(filename+file)\n",
    "    plt.imshow(diff[1:-1, 1:-1], cmap='jet', aspect='auto')\n",
    "    plt.colorbar()\n",
    "    plt.show()"
   ]
  }
 ],
 "metadata": {
  "language_info": {
   "name": "python"
  }
 },
 "nbformat": 4,
 "nbformat_minor": 2
}
